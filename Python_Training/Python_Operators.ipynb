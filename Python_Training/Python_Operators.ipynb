{
 "cells": [
  {
   "cell_type": "code",
   "execution_count": 5,
   "metadata": {},
   "outputs": [
    {
     "name": "stdout",
     "output_type": "stream",
     "text": [
      "Printing the addition value :\n",
      "7\n",
      "Printing the subtraction value :\n",
      "1\n",
      "Printing the Multiplication value :\n",
      "18\n"
     ]
    }
   ],
   "source": [
    "## Arithmetic Operators\n",
    "\n",
    "# Addition \n",
    "# subtraction \n",
    "# Divistion \n",
    "# Double Division \n",
    "# Multiplication \n",
    "# Power \n",
    "# Modular\n",
    "\n",
    "\n",
    "### Addition \n",
    "\n",
    "print(\"Printing the addition value :\")\n",
    "print(3 + 4)\n",
    "\n",
    "## subtraction \n",
    "print(\"Printing the subtraction value :\")\n",
    "print(3 - 2)\n",
    "\n",
    "## Multiplication \n",
    "\n",
    "print(\"Printing the Multiplication value :\")\n",
    "print(3 * 6)\n"
   ]
  },
  {
   "cell_type": "code",
   "execution_count": 12,
   "metadata": {},
   "outputs": [
    {
     "name": "stdout",
     "output_type": "stream",
     "text": [
      "Printing the Power :\n",
      "27\n",
      "Printing the Single / Division : \n",
      "5.0\n",
      "Printing the double slash // Division :\n",
      "5\n"
     ]
    }
   ],
   "source": [
    "## Power off \n",
    "\n",
    "print(\"Printing the Power :\")\n",
    "print(3 ** 3)\n",
    "## Returns the Output in 3 * 3 * 3 = 27\n",
    "\n",
    "## Division -- Always returns the output in floating value \n",
    "\n",
    "print(\"Printing the Single / Division : \")\n",
    "print(10 / 2)\n",
    "\n",
    "## Double Division -- Always retruns the nearest smallest integer value \n",
    "\n",
    "print(\"Printing the double slash // Division :\")\n",
    "print(10 // 2)"
   ]
  },
  {
   "cell_type": "code",
   "execution_count": 23,
   "metadata": {},
   "outputs": [
    {
     "name": "stdout",
     "output_type": "stream",
     "text": [
      "Printing the % Modular division :\n",
      "0\n"
     ]
    }
   ],
   "source": []
  },
  {
   "cell_type": "code",
   "execution_count": 25,
   "metadata": {},
   "outputs": [
    {
     "name": "stdout",
     "output_type": "stream",
     "text": [
      "3.3333333333333335\n",
      "3\n"
     ]
    }
   ],
   "source": [
    "## Difference between / and // \n",
    "\n",
    "print(10 / 3)\n",
    "\n",
    "print(10 // 3)"
   ]
  },
  {
   "cell_type": "code",
   "execution_count": 43,
   "metadata": {},
   "outputs": [
    {
     "name": "stdout",
     "output_type": "stream",
     "text": [
      "10.0\n",
      "25.0\n",
      "0.0\n",
      "5.0\n",
      "3.3333333333333335\n",
      "1000.0\n"
     ]
    }
   ],
   "source": [
    "##  Domination of the floating \n",
    "\n",
    "print(5.0 + 5)\n",
    "print(5.0 * 5)\n",
    "print(10.0 - 10)\n",
    "print(10.0 // 2)\n",
    "print(10.0 / 3)\n",
    "print(10.0 ** 3)"
   ]
  },
  {
   "cell_type": "code",
   "execution_count": 34,
   "metadata": {},
   "outputs": [
    {
     "name": "stdout",
     "output_type": "stream",
     "text": [
      "4.0\n"
     ]
    }
   ],
   "source": [
    "x = 10 \n",
    "y = 2.5 \n",
    "\n",
    "print(x // y)"
   ]
  },
  {
   "cell_type": "code",
   "execution_count": 37,
   "metadata": {},
   "outputs": [
    {
     "data": {
      "text/plain": [
       "0.2"
      ]
     },
     "execution_count": 37,
     "metadata": {},
     "output_type": "execute_result"
    }
   ],
   "source": [
    "5 ** -1  ## 1 / 5 = 0.2"
   ]
  },
  {
   "cell_type": "code",
   "execution_count": 42,
   "metadata": {},
   "outputs": [
    {
     "name": "stdout",
     "output_type": "stream",
     "text": [
      "2.23606797749979\n"
     ]
    }
   ],
   "source": [
    " ## Finding the Square root \n",
    "\n",
    "print(5 ** 0.5)"
   ]
  },
  {
   "cell_type": "code",
   "execution_count": 39,
   "metadata": {},
   "outputs": [
    {
     "data": {
      "text/plain": [
       "3"
      ]
     },
     "execution_count": 39,
     "metadata": {},
     "output_type": "execute_result"
    }
   ],
   "source": [
    "## // With Negative value\n",
    "\n",
    "10 // 3"
   ]
  },
  {
   "cell_type": "code",
   "execution_count": 41,
   "metadata": {},
   "outputs": [
    {
     "data": {
      "text/plain": [
       "-4"
      ]
     },
     "execution_count": 41,
     "metadata": {},
     "output_type": "execute_result"
    }
   ],
   "source": [
    "-10 // 3"
   ]
  },
  {
   "cell_type": "code",
   "execution_count": 44,
   "metadata": {},
   "outputs": [
    {
     "name": "stdout",
     "output_type": "stream",
     "text": [
      "Printing the % Modular division :\n",
      "0\n"
     ]
    }
   ],
   "source": [
    "## Modular -- Returns the Remainder value as the output \n",
    "\n",
    "print(\"Printing the % Modular division :\")\n",
    "print(20 % 4)"
   ]
  },
  {
   "cell_type": "code",
   "execution_count": 45,
   "metadata": {},
   "outputs": [
    {
     "name": "stdout",
     "output_type": "stream",
     "text": [
      "1.0\n"
     ]
    }
   ],
   "source": [
    "\n",
    "## Domination of Floating\n",
    "print(10.0 % 3)"
   ]
  },
  {
   "cell_type": "code",
   "execution_count": 46,
   "metadata": {},
   "outputs": [],
   "source": [
    "## % Modular Output \n",
    "\n",
    "##  Modular output \n",
    "\n",
    "## % 2 - [0 - 1]\n",
    "## % 3 - [0 - 2]\n",
    "## % 4 - [0 - 3]\n",
    "## % 5 - [0 - 4]"
   ]
  },
  {
   "cell_type": "code",
   "execution_count": 53,
   "metadata": {},
   "outputs": [
    {
     "name": "stdout",
     "output_type": "stream",
     "text": [
      "1\n",
      "1\n"
     ]
    }
   ],
   "source": [
    "print(-27 % 4)\n",
    "print(-9 % 2)\n",
    "\n",
    "## Show the formula ( -27 % 4) = x * 4"
   ]
  },
  {
   "cell_type": "code",
   "execution_count": 55,
   "metadata": {},
   "outputs": [
    {
     "name": "stdout",
     "output_type": "stream",
     "text": [
      "100000\n"
     ]
    }
   ],
   "source": [
    "## Precedence of the Operator \n",
    "\n",
    "print (10 ** (2 + 3))"
   ]
  },
  {
   "cell_type": "code",
   "execution_count": 57,
   "metadata": {},
   "outputs": [
    {
     "name": "stdout",
     "output_type": "stream",
     "text": [
      "1\n"
     ]
    }
   ],
   "source": [
    "print(5 ** 0) ## Anything to the Power 0 is 1 "
   ]
  },
  {
   "cell_type": "code",
   "execution_count": 72,
   "metadata": {},
   "outputs": [
    {
     "name": "stdout",
     "output_type": "stream",
     "text": [
      "True\n",
      "True\n",
      "True\n",
      "True\n",
      "True\n",
      "True\n",
      "True\n",
      "True\n",
      "\n",
      "False\n",
      "False\n",
      "False\n"
     ]
    }
   ],
   "source": [
    "## Boolean \n",
    "\n",
    "## Except 0(Zero) and Blank Everything is goung to be True \n",
    "\n",
    "print(bool(10))\n",
    "print(bool(\"Parthiban\"))\n",
    "print(bool(-1))\n",
    "print(bool(\" \"))\n",
    "print(bool(True))\n",
    "print(bool(10/3))\n",
    "print(bool('Falase'))\n",
    "print(bool('True'))\n",
    "print()\n",
    "\n",
    "## False scenario\n",
    "print(bool(\"\"))\n",
    "print(bool(False))\n",
    "print(bool(0))"
   ]
  },
  {
   "cell_type": "code",
   "execution_count": 74,
   "metadata": {},
   "outputs": [
    {
     "name": "stdout",
     "output_type": "stream",
     "text": [
      "10\n"
     ]
    }
   ],
   "source": [
    "## Assignment Operator \n",
    "\n",
    "a = 10 \n",
    "\n",
    "print(a)\n",
    "\n",
    "## Now the variable a hold the value 10 \n",
    "## The Assignment Operator always assign the Right side value to the Left side "
   ]
  },
  {
   "cell_type": "code",
   "execution_count": 76,
   "metadata": {},
   "outputs": [
    {
     "name": "stdout",
     "output_type": "stream",
     "text": [
      "12\n"
     ]
    }
   ],
   "source": [
    "a = a+2\n",
    "print(a)"
   ]
  },
  {
   "cell_type": "code",
   "execution_count": 77,
   "metadata": {},
   "outputs": [
    {
     "name": "stdout",
     "output_type": "stream",
     "text": [
      "14\n"
     ]
    }
   ],
   "source": [
    "## We can even write as \n",
    "\n",
    "a += 2\n",
    "print(a)"
   ]
  },
  {
   "cell_type": "code",
   "execution_count": 79,
   "metadata": {},
   "outputs": [
    {
     "name": "stdout",
     "output_type": "stream",
     "text": [
      "10\n"
     ]
    }
   ],
   "source": [
    "a -= 2\n",
    "print(a)"
   ]
  },
  {
   "cell_type": "code",
   "execution_count": 80,
   "metadata": {},
   "outputs": [
    {
     "name": "stdout",
     "output_type": "stream",
     "text": [
      "20\n"
     ]
    }
   ],
   "source": [
    "a *= 2\n",
    "print(a)"
   ]
  },
  {
   "cell_type": "code",
   "execution_count": 81,
   "metadata": {},
   "outputs": [
    {
     "name": "stdout",
     "output_type": "stream",
     "text": [
      "10.0\n"
     ]
    }
   ],
   "source": [
    "a /= 2\n",
    "print(a)"
   ]
  },
  {
   "cell_type": "code",
   "execution_count": 82,
   "metadata": {},
   "outputs": [
    {
     "name": "stdout",
     "output_type": "stream",
     "text": [
      "5.0\n"
     ]
    }
   ],
   "source": [
    "a //= 2\n",
    "print(a)"
   ]
  },
  {
   "cell_type": "code",
   "execution_count": null,
   "metadata": {},
   "outputs": [],
   "source": [
    "## Comparsion Operator  ## Returns True/ Falase based on the condition \n",
    "\n",
    "## < - Lesser \n",
    "## > - Greater \n",
    "## <= - Lesser or Equal \n",
    "## >= - Greater or Equal \n",
    "## == - Equal to \n",
    "## != - Not equal to "
   ]
  },
  {
   "cell_type": "code",
   "execution_count": 83,
   "metadata": {},
   "outputs": [
    {
     "name": "stdout",
     "output_type": "stream",
     "text": [
      "False\n"
     ]
    }
   ],
   "source": [
    "a = 10\n",
    "b = 20 \n",
    "print(a > b)"
   ]
  },
  {
   "cell_type": "code",
   "execution_count": null,
   "metadata": {},
   "outputs": [],
   "source": [
    "## Logical Operator \n",
    "\n",
    "## And\n",
    "## Or\n",
    "## Not \n",
    "\n",
    "## And - If all the condition are true the output will be true \n",
    "## Or - If any one of the condition is True the output will be true \n",
    "## Not - If the Input is True the output will be False"
   ]
  },
  {
   "cell_type": "code",
   "execution_count": 95,
   "metadata": {},
   "outputs": [
    {
     "name": "stdout",
     "output_type": "stream",
     "text": [
      "True\n",
      "False\n"
     ]
    }
   ],
   "source": [
    "## Placement Qualification \n",
    "\n",
    "Clg_mark = 70\n",
    "Scl_Mark = 70 \n",
    "Sports = 'Yes'\n",
    "print((Clg_mark >= 70 and Scl_Mark >=70 and Sports == 'Yes'))\n",
    "print((Clg_mark >= 70 and Scl_Mark >=70 and Sports == 'No'))"
   ]
  },
  {
   "cell_type": "code",
   "execution_count": null,
   "metadata": {},
   "outputs": [],
   "source": []
  }
 ],
 "metadata": {
  "kernelspec": {
   "display_name": "base",
   "language": "python",
   "name": "python3"
  },
  "language_info": {
   "codemirror_mode": {
    "name": "ipython",
    "version": 3
   },
   "file_extension": ".py",
   "mimetype": "text/x-python",
   "name": "python",
   "nbconvert_exporter": "python",
   "pygments_lexer": "ipython3",
   "version": "3.12.4"
  }
 },
 "nbformat": 4,
 "nbformat_minor": 2
}
