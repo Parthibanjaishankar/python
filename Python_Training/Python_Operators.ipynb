{
 "cells": [
  {
   "cell_type": "code",
   "execution_count": null,
   "metadata": {},
   "outputs": [],
   "source": [
    "## Arithmetic Operators\n",
    "\n",
    "# Addition \n",
    "# subtraction \n",
    "# Divistion \n",
    "# Double Division \n",
    "# Multiplication \n",
    "# Power \n",
    "# Modular\n",
    "\n",
    "\n",
    "### Addition \n",
    "\n",
    "print(\"Printing the addition value :\")\n",
    "print(3 + 4)\n",
    "\n",
    "## subtraction \n",
    "print(\"Printing the subtraction value :\")\n",
    "print(3 - 2)\n",
    "\n",
    "## Multiplication \n",
    "\n",
    "print(\"Printing the Multiplication value :\")\n",
    "print(3 * 6)\n"
   ]
  },
  {
   "cell_type": "code",
   "execution_count": null,
   "metadata": {},
   "outputs": [],
   "source": [
    "## Power off \n",
    "\n",
    "print(\"Printing the Power :\")\n",
    "print(3 ** 3)\n",
    "## Returns the Output in 3 * 3 * 3 = 27\n",
    "\n",
    "## Division -- Always returns the output in floating value \n",
    "\n",
    "print(\"Printing the Single / Division : \")\n",
    "print(10 / 2)\n",
    "\n",
    "## Double Division -- Always retruns the nearest smallest integer value \n",
    "\n",
    "print(\"Printing the double slash // Division :\")\n",
    "print(10 // 2)"
   ]
  },
  {
   "cell_type": "code",
   "execution_count": null,
   "metadata": {},
   "outputs": [],
   "source": [
    "## Logical Operator \n",
    "\n",
    "\n",
    "## and \n",
    "## or \n",
    "## not"
   ]
  },
  {
   "cell_type": "code",
   "execution_count": null,
   "metadata": {},
   "outputs": [],
   "source": [
    "## Difference between / and // \n",
    "\n",
    "print(10 / 3)\n",
    "\n",
    "print(10 // 3)"
   ]
  },
  {
   "cell_type": "code",
   "execution_count": null,
   "metadata": {},
   "outputs": [],
   "source": [
    "##  Domination of the floating \n",
    "\n",
    "print(5.0 + 5)\n",
    "print(5.0 * 5)\n",
    "print(10.0 - 10)\n",
    "print(10.0 // 2)\n",
    "print(10.0 / 3)\n",
    "print(10.0 ** 3)"
   ]
  },
  {
   "cell_type": "code",
   "execution_count": null,
   "metadata": {},
   "outputs": [],
   "source": [
    "x = 10 \n",
    "y = 2.5 \n",
    "\n",
    "print(x // y)"
   ]
  },
  {
   "cell_type": "code",
   "execution_count": null,
   "metadata": {},
   "outputs": [],
   "source": [
    "5 ** -1  ## 1 / 5 = 0.2"
   ]
  },
  {
   "cell_type": "code",
   "execution_count": null,
   "metadata": {},
   "outputs": [],
   "source": [
    " ## Finding the Square root \n",
    "\n",
    "print(5 ** 0.5)"
   ]
  },
  {
   "cell_type": "code",
   "execution_count": null,
   "metadata": {},
   "outputs": [],
   "source": [
    "## // With Negative value\n",
    "\n",
    "10 // 3"
   ]
  },
  {
   "cell_type": "code",
   "execution_count": null,
   "metadata": {},
   "outputs": [],
   "source": [
    "-10 // 3"
   ]
  },
  {
   "cell_type": "code",
   "execution_count": null,
   "metadata": {},
   "outputs": [],
   "source": [
    "## Modular -- Returns the Remainder value as the output \n",
    "\n",
    "print(\"Printing the % Modular division :\")\n",
    "print(20 % 4)"
   ]
  },
  {
   "cell_type": "code",
   "execution_count": null,
   "metadata": {},
   "outputs": [],
   "source": [
    "\n",
    "## Domination of Floating\n",
    "print(10.0 % 3)"
   ]
  },
  {
   "cell_type": "code",
   "execution_count": null,
   "metadata": {},
   "outputs": [],
   "source": [
    "## % Modular Output \n",
    "\n",
    "##  Modular output \n",
    "\n",
    "## % 2 - [0 - 1]\n",
    "## % 3 - [0 - 2]\n",
    "## % 4 - [0 - 3]\n",
    "## % 5 - [0 - 4]"
   ]
  },
  {
   "cell_type": "code",
   "execution_count": null,
   "metadata": {},
   "outputs": [],
   "source": [
    "print(-27 % 4)\n",
    "print(-9 % 2)\n",
    "\n",
    "## Show the formula ( -27 % 4) = x * 4"
   ]
  },
  {
   "cell_type": "code",
   "execution_count": null,
   "metadata": {},
   "outputs": [],
   "source": [
    "## Precedence of the Operator \n",
    "\n",
    "print (10 ** (2 + 3))"
   ]
  },
  {
   "cell_type": "code",
   "execution_count": null,
   "metadata": {},
   "outputs": [],
   "source": [
    "print(5 ** 0) ## Anything to the Power 0 is 1 "
   ]
  },
  {
   "cell_type": "code",
   "execution_count": null,
   "metadata": {},
   "outputs": [],
   "source": [
    "## Boolean \n",
    "\n",
    "## Except 0(Zero) and Blank Everything is goung to be True \n",
    "\n",
    "print(bool(10))\n",
    "print(bool(\"Parthiban\"))\n",
    "print(bool(-1))\n",
    "print(bool(\" \"))\n",
    "print(bool(True))\n",
    "print(bool(10/3))\n",
    "print(bool('Falase'))\n",
    "print(bool('True'))\n",
    "print()\n",
    "\n",
    "## False scenario\n",
    "print(bool(\"\"))\n",
    "print(bool(False))\n",
    "print(bool(0))"
   ]
  },
  {
   "cell_type": "code",
   "execution_count": null,
   "metadata": {},
   "outputs": [],
   "source": [
    "## Assignment Operator \n",
    "\n",
    "a = 10 \n",
    "\n",
    "print(a)\n",
    "\n",
    "## Now the variable a hold the value 10 \n",
    "## The Assignment Operator always assign the Right side value to the Left side "
   ]
  },
  {
   "cell_type": "code",
   "execution_count": null,
   "metadata": {},
   "outputs": [],
   "source": [
    "a = a+2\n",
    "print(a)"
   ]
  },
  {
   "cell_type": "code",
   "execution_count": null,
   "metadata": {},
   "outputs": [],
   "source": [
    "## We can even write as \n",
    "\n",
    "a += 2\n",
    "print(a)"
   ]
  },
  {
   "cell_type": "code",
   "execution_count": null,
   "metadata": {},
   "outputs": [],
   "source": [
    "a -= 2\n",
    "print(a)"
   ]
  },
  {
   "cell_type": "code",
   "execution_count": null,
   "metadata": {},
   "outputs": [],
   "source": [
    "a *= 2\n",
    "print(a)"
   ]
  },
  {
   "cell_type": "code",
   "execution_count": null,
   "metadata": {},
   "outputs": [],
   "source": [
    "a /= 2\n",
    "print(a)"
   ]
  },
  {
   "cell_type": "code",
   "execution_count": null,
   "metadata": {},
   "outputs": [],
   "source": [
    "a //= 2\n",
    "print(a)"
   ]
  },
  {
   "cell_type": "code",
   "execution_count": null,
   "metadata": {},
   "outputs": [],
   "source": [
    "## Comparsion Operator  ## Returns True/ Falase based on the condition \n",
    "\n",
    "## < - Lesser \n",
    "## > - Greater \n",
    "## <= - Lesser or Equal \n",
    "## >= - Greater or Equal \n",
    "## == - Equal to \n",
    "## != - Not equal to "
   ]
  },
  {
   "cell_type": "code",
   "execution_count": null,
   "metadata": {},
   "outputs": [],
   "source": [
    "a = 10\n",
    "b = 20 \n",
    "print(a > b)"
   ]
  },
  {
   "cell_type": "code",
   "execution_count": null,
   "metadata": {},
   "outputs": [],
   "source": [
    "## Logical Operator \n",
    "\n",
    "## And\n",
    "## Or\n",
    "## Not \n",
    "\n",
    "## And - If all the condition are true the output will be true \n",
    "## Or - If any one of the condition is True the output will be true \n",
    "## Not - If the Input is True the output will be False"
   ]
  },
  {
   "cell_type": "code",
   "execution_count": null,
   "metadata": {},
   "outputs": [],
   "source": [
    "## Placement Qualification \n",
    "\n",
    "Clg_mark = 70\n",
    "Scl_Mark = 70 \n",
    "Sports = 'Yes'\n",
    "print((Clg_mark >= 70 and Scl_Mark >=70 and Sports == 'Yes'))\n",
    "print((Clg_mark >= 70 and Scl_Mark >=70 and Sports == 'No'))"
   ]
  },
  {
   "cell_type": "code",
   "execution_count": 96,
   "metadata": {},
   "outputs": [
    {
     "name": "stdout",
     "output_type": "stream",
     "text": [
      "True\n"
     ]
    }
   ],
   "source": [
    "print(True == 1)"
   ]
  },
  {
   "cell_type": "code",
   "execution_count": 97,
   "metadata": {},
   "outputs": [
    {
     "name": "stdout",
     "output_type": "stream",
     "text": [
      "15\n",
      "1\n"
     ]
    }
   ],
   "source": [
    "a = 4\n",
    "b = 11\n",
    "print(a | b)\n",
    "print(a >> 2)"
   ]
  },
  {
   "cell_type": "code",
   "execution_count": null,
   "metadata": {},
   "outputs": [],
   "source": [
    "# 1. What is the output of the following code\n",
    "\n",
    "# x = 100\n",
    "# y = 50\n",
    "# print(x and y)"
   ]
  },
  {
   "cell_type": "code",
   "execution_count": null,
   "metadata": {},
   "outputs": [],
   "source": [
    "# 2. What is the value of the following Python Expression\n",
    "\n",
    "# print(36 / 4)"
   ]
  },
  {
   "cell_type": "code",
   "execution_count": null,
   "metadata": {},
   "outputs": [],
   "source": [
    "# 3. What is the output of print(2 ** 3 ** 2)"
   ]
  },
  {
   "cell_type": "code",
   "execution_count": null,
   "metadata": {},
   "outputs": [],
   "source": [
    "#  What is the output of the following code\n",
    "\n",
    "# print(bool(0), bool(3.14159), bool(-3), bool(1.0+1j)"
   ]
  },
  {
   "cell_type": "markdown",
   "metadata": {},
   "source": [
    "\n",
    "|Precedence level|\tOperator|\tMeaning|\n",
    "|----------------|----------|-----------|\n",
    "|1 (Highest)|\t()|\tParenthesis|\n",
    "|2|\t**|\tExponent|\n",
    "|3|\t+x, -x ,~x\t|Unary plus, Unary Minus, Bitwise negation|\n",
    "|4|\t*, /, //, %|\tMultiplication, Division, Floor division, Modulus|\n",
    "|5|\t+, -\t|Addition, Subtraction|\n",
    "|6|\t<<, >>\t|Bitwise shift operator|\n",
    "|7|\t&\t|Bitwise AND|\n",
    "|8|\t^\t|Bitwise XOR|\n",
    "|9|\t|\t|Bitwise OR|\n",
    "|10|\t==, !=, >, >=, <, <=\t|Comparison|\n",
    "|11|\tis, is not, in, not in\t|Identity, Membership|\n",
    "|12|\tnot\t|Logical NOT|\n",
    "|13|\tand\t|Logical AND|\n",
    "|14| (Lowest)\tor\t|Logical OR|"
   ]
  },
  {
   "cell_type": "markdown",
   "metadata": {},
   "source": []
  }
 ],
 "metadata": {
  "kernelspec": {
   "display_name": "base",
   "language": "python",
   "name": "python3"
  },
  "language_info": {
   "codemirror_mode": {
    "name": "ipython",
    "version": 3
   },
   "file_extension": ".py",
   "mimetype": "text/x-python",
   "name": "python",
   "nbconvert_exporter": "python",
   "pygments_lexer": "ipython3",
   "version": "3.12.4"
  }
 },
 "nbformat": 4,
 "nbformat_minor": 2
}
